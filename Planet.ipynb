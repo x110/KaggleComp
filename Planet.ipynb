{
  "nbformat": 4,
  "nbformat_minor": 0,
  "metadata": {
    "colab": {
      "name": "Planet.ipynb",
      "version": "0.3.2",
      "provenance": []
    },
    "kernelspec": {
      "name": "python3",
      "display_name": "Python 3"
    },
    "accelerator": "GPU"
  },
  "cells": [
    {
      "cell_type": "markdown",
      "metadata": {
        "id": "view-in-github",
        "colab_type": "text"
      },
      "source": [
        "[View in Colaboratory](https://colab.research.google.com/github/x110/DLToolboxImg/blob/master/Planet.ipynb)"
      ]
    },
    {
      "metadata": {
        "id": "3iwfoqHreiK2",
        "colab_type": "text"
      },
      "cell_type": "markdown",
      "source": [
        "## Prepare virtual machine on google colab\n",
        "1. Connect to google drive\n",
        "2. Install dependencies"
      ]
    },
    {
      "metadata": {
        "id": "tl1beo8MfNQy",
        "colab_type": "code",
        "colab": {
          "base_uri": "https://localhost:8080/",
          "height": 3227
        },
        "outputId": "820505c4-d329-4102-f61b-62b225f30531"
      },
      "cell_type": "code",
      "source": [
        "#http://forums.fast.ai/t/quick-google-colab-setup-for-part-2-week-1-along-with-pascal-voc-dataset/13650\n",
        "#https://medium.com/deep-learning-turkey/google-colab-free-gpu-tutorial-e113627b9f5d\n",
        "!pip install https://github.com/fastai/fastai/archive/master.zip\n",
        "!pip install opencv-python\n",
        "!apt update && apt install -y libsm6 libxext6\n",
        "!pip3 install http://download.pytorch.org/whl/cu80/torch-0.3.0.post4-cp36-cp36m-linux_x86_64.whl \n",
        "!pip3 install torchvision"
      ],
      "execution_count": 1,
      "outputs": [
        {
          "output_type": "stream",
          "text": [
            "Collecting https://github.com/fastai/fastai/archive/master.zip\n",
            "  Downloading https://github.com/fastai/fastai/archive/master.zip\n",
            "\u001b[K     - 90.0MB 44.6MB/s\n",
            "Collecting bcolz (from fastai==0.7.0)\n",
            "\u001b[?25l  Downloading https://files.pythonhosted.org/packages/5c/4e/23942de9d5c0fb16f10335fa83e52b431bcb8c0d4a8419c9ac206268c279/bcolz-1.2.1.tar.gz (1.5MB)\n",
            "\u001b[K    100% |████████████████████████████████| 1.5MB 10.0MB/s \n",
            "\u001b[?25hRequirement already satisfied: bleach in /usr/local/lib/python3.6/dist-packages (from fastai==0.7.0) (1.5.0)\n",
            "Requirement already satisfied: certifi in /usr/local/lib/python3.6/dist-packages (from fastai==0.7.0) (2018.4.16)\n",
            "Requirement already satisfied: cycler in /usr/local/lib/python3.6/dist-packages (from fastai==0.7.0) (0.10.0)\n",
            "Requirement already satisfied: decorator in /usr/local/lib/python3.6/dist-packages (from fastai==0.7.0) (4.3.0)\n",
            "Requirement already satisfied: entrypoints in /usr/local/lib/python3.6/dist-packages (from fastai==0.7.0) (0.2.3)\n",
            "Collecting feather-format (from fastai==0.7.0)\n",
            "  Downloading https://files.pythonhosted.org/packages/08/55/940b97cc6f19a19f5dab9efef2f68a0ce43a7632f858b272391f0b851a7e/feather-format-0.4.0.tar.gz\n",
            "Collecting graphviz (from fastai==0.7.0)\n",
            "  Downloading https://files.pythonhosted.org/packages/84/44/21a7fdd50841aaaef224b943f7d10df87e476e181bb926ccf859bcb53d48/graphviz-0.8.3-py2.py3-none-any.whl\n",
            "Requirement already satisfied: html5lib in /usr/local/lib/python3.6/dist-packages (from fastai==0.7.0) (0.9999999)\n",
            "Requirement already satisfied: ipykernel in /usr/local/lib/python3.6/dist-packages (from fastai==0.7.0) (4.6.1)\n",
            "Requirement already satisfied: ipython in /usr/local/lib/python3.6/dist-packages (from fastai==0.7.0) (5.5.0)\n",
            "Requirement already satisfied: ipython-genutils in /usr/local/lib/python3.6/dist-packages (from fastai==0.7.0) (0.2.0)\n",
            "Collecting ipywidgets (from fastai==0.7.0)\n",
            "\u001b[?25l  Downloading https://files.pythonhosted.org/packages/7d/24/fabc09ad81c6071159a4d12d5bfbddcbea69bd9e3b16c3250ef300c0285f/ipywidgets-7.2.1-py2.py3-none-any.whl (106kB)\n",
            "\u001b[K    100% |████████████████████████████████| 112kB 14.3MB/s \n",
            "\u001b[?25hCollecting isoweek (from fastai==0.7.0)\n",
            "  Downloading https://files.pythonhosted.org/packages/c2/d4/fe7e2637975c476734fcbf53776e650a29680194eb0dd21dbdc020ca92de/isoweek-1.3.3-py2.py3-none-any.whl\n",
            "Collecting jedi (from fastai==0.7.0)\n",
            "\u001b[?25l  Downloading https://files.pythonhosted.org/packages/e7/42/074192a165622e645ed4aeade63e76e56b3496a044569b3c6cae3a918352/jedi-0.12.0-py2.py3-none-any.whl (172kB)\n",
            "\u001b[K    100% |████████████████████████████████| 174kB 9.7MB/s \n",
            "\u001b[?25hRequirement already satisfied: Jinja2 in /usr/local/lib/python3.6/dist-packages (from fastai==0.7.0) (2.10)\n",
            "Requirement already satisfied: jsonschema in /usr/local/lib/python3.6/dist-packages (from fastai==0.7.0) (2.6.0)\n",
            "Collecting jupyter (from fastai==0.7.0)\n",
            "  Downloading https://files.pythonhosted.org/packages/83/df/0f5dd132200728a86190397e1ea87cd76244e42d39ec5e88efd25b2abd7e/jupyter-1.0.0-py2.py3-none-any.whl\n",
            "Requirement already satisfied: MarkupSafe in /usr/local/lib/python3.6/dist-packages (from fastai==0.7.0) (1.0)\n",
            "Requirement already satisfied: matplotlib in /usr/local/lib/python3.6/dist-packages (from fastai==0.7.0) (2.1.2)\n",
            "Requirement already satisfied: numpy in /usr/local/lib/python3.6/dist-packages (from fastai==0.7.0) (1.14.3)\n",
            "Requirement already satisfied: opencv-python in /usr/local/lib/python3.6/dist-packages (from fastai==0.7.0) (3.4.1.15)\n",
            "Requirement already satisfied: pandas in /usr/local/lib/python3.6/dist-packages (from fastai==0.7.0) (0.22.0)\n",
            "Collecting pandas_summary (from fastai==0.7.0)\n",
            "  Downloading https://files.pythonhosted.org/packages/3d/a7/0364272be0c6561c45d67edec8a7bf0532d56b830438168f9078f7720f63/pandas-summary-0.0.41.tar.gz\n",
            "Requirement already satisfied: pickleshare in /usr/local/lib/python3.6/dist-packages (from fastai==0.7.0) (0.7.4)\n",
            "Requirement already satisfied: Pillow in /usr/local/lib/python3.6/dist-packages (from fastai==0.7.0) (4.0.0)\n",
            "Collecting plotnine (from fastai==0.7.0)\n",
            "\u001b[?25l  Downloading https://files.pythonhosted.org/packages/3a/68/cf39dfde4e9fd886703621e3393cd8103cb48d5ecc95b8f048ec148e53a6/plotnine-0.3.0-py2.py3-none-any.whl (3.4MB)\n",
            "\u001b[K    100% |████████████████████████████████| 3.4MB 7.7MB/s \n",
            "\u001b[?25hRequirement already satisfied: ptyprocess in /usr/local/lib/python3.6/dist-packages (from fastai==0.7.0) (0.5.2)\n",
            "Requirement already satisfied: Pygments in /usr/local/lib/python3.6/dist-packages (from fastai==0.7.0) (2.1.3)\n",
            "Requirement already satisfied: pyparsing in /usr/local/lib/python3.6/dist-packages (from fastai==0.7.0) (2.2.0)\n",
            "Requirement already satisfied: python-dateutil in /usr/local/lib/python3.6/dist-packages (from fastai==0.7.0) (2.5.3)\n",
            "Requirement already satisfied: pytz in /usr/local/lib/python3.6/dist-packages (from fastai==0.7.0) (2018.4)\n",
            "Requirement already satisfied: PyYAML in /usr/local/lib/python3.6/dist-packages (from fastai==0.7.0) (3.12)\n",
            "Requirement already satisfied: pyzmq in /usr/local/lib/python3.6/dist-packages (from fastai==0.7.0) (16.0.4)\n",
            "Requirement already satisfied: scipy in /usr/local/lib/python3.6/dist-packages (from fastai==0.7.0) (0.19.1)\n",
            "Requirement already satisfied: seaborn in /usr/local/lib/python3.6/dist-packages (from fastai==0.7.0) (0.7.1)\n",
            "Requirement already satisfied: simplegeneric in /usr/local/lib/python3.6/dist-packages (from fastai==0.7.0) (0.8.1)\n",
            "Collecting sklearn_pandas (from fastai==0.7.0)\n",
            "  Downloading https://files.pythonhosted.org/packages/c5/9e/42d7bcddb09a3ff52d0c60c810ba5d0fded28abbe320c85bbf7368192956/sklearn_pandas-1.6.0-py2.py3-none-any.whl\n",
            "Requirement already satisfied: testpath in /usr/local/lib/python3.6/dist-packages (from fastai==0.7.0) (0.3.1)\n",
            "Collecting torch<0.4 (from fastai==0.7.0)\n"
          ],
          "name": "stdout"
        },
        {
          "output_type": "stream",
          "text": [
            "\u001b[33m  Retrying (Retry(total=4, connect=None, read=None, redirect=None, status=None)) after connection broken by 'ReadTimeoutError(\"HTTPSConnectionPool(host='files.pythonhosted.org', port=443): Read timed out. (read timeout=15)\",)': /packages/5b/a5/e8b50b55b1abac9f1e3346c4242f1e42a82d368a8442cbd50c532922f6c4/torch-0.3.1-cp36-cp36m-manylinux1_x86_64.whl\u001b[0m\n",
            "\u001b[?25l  Downloading https://files.pythonhosted.org/packages/5b/a5/e8b50b55b1abac9f1e3346c4242f1e42a82d368a8442cbd50c532922f6c4/torch-0.3.1-cp36-cp36m-manylinux1_x86_64.whl (496.4MB)\n",
            "\u001b[K    45% |██████████████▊                 | 228.1MB 34.0MB/s eta 0:00:08"
          ],
          "name": "stdout"
        },
        {
          "output_type": "stream",
          "text": [
            "\u001b[K    100% |████████████████████████████████| 496.4MB 30kB/s \n",
            "\u001b[?25hCollecting torchtext (from fastai==0.7.0)\n",
            "\u001b[?25l  Downloading https://files.pythonhosted.org/packages/78/90/474d5944d43001a6e72b9aaed5c3e4f77516fbef2317002da2096fd8b5ea/torchtext-0.2.3.tar.gz (42kB)\n",
            "\u001b[K    100% |████████████████████████████████| 51kB 14.2MB/s \n",
            "\u001b[?25hCollecting torchvision (from fastai==0.7.0)\n",
            "\u001b[?25l  Downloading https://files.pythonhosted.org/packages/ca/0d/f00b2885711e08bd71242ebe7b96561e6f6d01fdb4b9dcf4d37e2e13c5e1/torchvision-0.2.1-py2.py3-none-any.whl (54kB)\n",
            "\u001b[K    100% |████████████████████████████████| 61kB 18.4MB/s \n",
            "\u001b[?25hRequirement already satisfied: tornado in /usr/local/lib/python3.6/dist-packages (from fastai==0.7.0) (4.5.3)\n",
            "Collecting tqdm (from fastai==0.7.0)\n",
            "\u001b[?25l  Downloading https://files.pythonhosted.org/packages/93/24/6ab1df969db228aed36a648a8959d1027099ce45fad67532b9673d533318/tqdm-4.23.4-py2.py3-none-any.whl (42kB)\n",
            "\u001b[K    100% |████████████████████████████████| 51kB 12.5MB/s \n",
            "\u001b[?25hRequirement already satisfied: traitlets in /usr/local/lib/python3.6/dist-packages (from fastai==0.7.0) (4.3.2)\n",
            "Requirement already satisfied: wcwidth in /usr/local/lib/python3.6/dist-packages (from fastai==0.7.0) (0.1.7)\n",
            "Requirement already satisfied: webencodings in /usr/local/lib/python3.6/dist-packages (from fastai==0.7.0) (0.5.1)\n",
            "Collecting widgetsnbextension (from fastai==0.7.0)\n",
            "\u001b[?25l  Downloading https://files.pythonhosted.org/packages/ff/fa/64acc09fc845a6b2dc0724d6f3f81e829b778ed5e9a7559567b4f19a3f4b/widgetsnbextension-3.2.1-py2.py3-none-any.whl (2.2MB)\n",
            "\u001b[K    100% |████████████████████████████████| 2.2MB 12.5MB/s \n",
            "\u001b[?25hRequirement already satisfied: six in /usr/local/lib/python3.6/dist-packages (from bleach->fastai==0.7.0) (1.11.0)\n",
            "Collecting pyarrow>=0.4.0 (from feather-format->fastai==0.7.0)\n",
            "\u001b[?25l  Downloading https://files.pythonhosted.org/packages/fe/27/576e6c979bfa5f63070f809c930aa85d6198b91d17a64866234597ba861f/pyarrow-0.9.0-cp36-cp36m-manylinux1_x86_64.whl (13.7MB)\n",
            "\u001b[K    100% |████████████████████████████████| 13.7MB 3.3MB/s \n",
            "\u001b[?25hRequirement already satisfied: jupyter-client in /usr/local/lib/python3.6/dist-packages (from ipykernel->fastai==0.7.0) (5.2.3)\n",
            "Requirement already satisfied: pexpect; sys_platform != \"win32\" in /usr/local/lib/python3.6/dist-packages (from ipython->fastai==0.7.0) (4.5.0)\n",
            "Requirement already satisfied: setuptools>=18.5 in /usr/local/lib/python3.6/dist-packages (from ipython->fastai==0.7.0) (39.2.0)\n",
            "Requirement already satisfied: prompt-toolkit<2.0.0,>=1.0.4 in /usr/local/lib/python3.6/dist-packages (from ipython->fastai==0.7.0) (1.0.15)\n",
            "Requirement already satisfied: nbformat>=4.2.0 in /usr/local/lib/python3.6/dist-packages (from ipywidgets->fastai==0.7.0) (4.4.0)\n",
            "Collecting parso>=0.2.0 (from jedi->fastai==0.7.0)\n",
            "\u001b[?25l  Downloading https://files.pythonhosted.org/packages/cd/3e/5908f9577dbd1e5df53e64349bfd11e46b726c1e4d8cd676bbe8aa4de316/parso-0.2.1-py2.py3-none-any.whl (91kB)\n",
            "\u001b[K    100% |████████████████████████████████| 92kB 19.7MB/s \n",
            "\u001b[?25hRequirement already satisfied: nbconvert in /usr/local/lib/python3.6/dist-packages (from jupyter->fastai==0.7.0) (5.3.1)\n",
            "Collecting jupyter-console (from jupyter->fastai==0.7.0)\n",
            "  Downloading https://files.pythonhosted.org/packages/77/82/6469cd7fccf7958cbe5dce2e623f1e3c5e27f1bb1ad36d90519bc2d5d370/jupyter_console-5.2.0-py2.py3-none-any.whl\n",
            "Collecting qtconsole (from jupyter->fastai==0.7.0)\n",
            "\u001b[?25l  Downloading https://files.pythonhosted.org/packages/90/ff/047e0dca2627b162866920e7aa93f04523c0ae81e5c67060eec85701992d/qtconsole-4.3.1-py2.py3-none-any.whl (108kB)\n",
            "\u001b[K    100% |████████████████████████████████| 112kB 10.6MB/s \n",
            "\u001b[?25hRequirement already satisfied: notebook in /usr/local/lib/python3.6/dist-packages (from jupyter->fastai==0.7.0) (5.2.2)\n",
            "Requirement already satisfied: olefile in /usr/local/lib/python3.6/dist-packages (from Pillow->fastai==0.7.0) (0.45.1)\n",
            "Requirement already satisfied: statsmodels>=0.8.0 in /usr/local/lib/python3.6/dist-packages (from plotnine->fastai==0.7.0) (0.8.0)\n",
            "Requirement already satisfied: patsy>=0.4.1 in /usr/local/lib/python3.6/dist-packages (from plotnine->fastai==0.7.0) (0.5.0)\n",
            "Collecting mizani>=0.4.1 (from plotnine->fastai==0.7.0)\n",
            "\u001b[?25l  Downloading https://files.pythonhosted.org/packages/52/01/8a3b4c6e45749674a1e5241174b4b63cd6435125e124bec275f3e02c96ac/mizani-0.4.6-py2.py3-none-any.whl (65kB)\n",
            "\u001b[K    100% |████████████████████████████████| 71kB 18.0MB/s \n",
            "\u001b[?25hRequirement already satisfied: scikit-learn>=0.15.0 in /usr/local/lib/python3.6/dist-packages (from sklearn_pandas->fastai==0.7.0) (0.19.1)\n",
            "Requirement already satisfied: requests in /usr/local/lib/python3.6/dist-packages (from torchtext->fastai==0.7.0) (2.18.4)\n",
            "Requirement already satisfied: jupyter-core in /usr/local/lib/python3.6/dist-packages (from jupyter-client->ipykernel->fastai==0.7.0) (4.4.0)\n",
            "Requirement already satisfied: pandocfilters>=1.4.1 in /usr/local/lib/python3.6/dist-packages (from nbconvert->jupyter->fastai==0.7.0) (1.4.2)\n",
            "Requirement already satisfied: mistune>=0.7.4 in /usr/local/lib/python3.6/dist-packages (from nbconvert->jupyter->fastai==0.7.0) (0.8.3)\n",
            "Requirement already satisfied: terminado>=0.3.3; sys_platform != \"win32\" in /usr/local/lib/python3.6/dist-packages (from notebook->jupyter->fastai==0.7.0) (0.8.1)\n",
            "Collecting palettable (from mizani>=0.4.1->plotnine->fastai==0.7.0)\n",
            "\u001b[?25l  Downloading https://files.pythonhosted.org/packages/56/8a/84537c0354f0d1f03bf644b71bf8e0a50db9c1294181905721a5f3efbf66/palettable-3.1.1-py2.py3-none-any.whl (77kB)\n",
            "\u001b[K    100% |████████████████████████████████| 81kB 22.1MB/s \n",
            "\u001b[?25hRequirement already satisfied: urllib3<1.23,>=1.21.1 in /usr/local/lib/python3.6/dist-packages (from requests->torchtext->fastai==0.7.0) (1.22)\n"
          ],
          "name": "stdout"
        },
        {
          "output_type": "stream",
          "text": [
            "Requirement already satisfied: idna<2.7,>=2.5 in /usr/local/lib/python3.6/dist-packages (from requests->torchtext->fastai==0.7.0) (2.6)\r\n",
            "Requirement already satisfied: chardet<3.1.0,>=3.0.2 in /usr/local/lib/python3.6/dist-packages (from requests->torchtext->fastai==0.7.0) (3.0.4)\r\n",
            "Building wheels for collected packages: fastai, bcolz, feather-format, pandas-summary, torchtext\n",
            "  Running setup.py bdist_wheel for fastai ... \u001b[?25l-\b \b\\\b \bdone\n",
            "\u001b[?25h  Stored in directory: /tmp/pip-ephem-wheel-cache-86qbfotg/wheels/64/3d/9f/d12a217aa2531321c5b9ae96288fcae2687d3b744376e8f94f\n",
            "  Running setup.py bdist_wheel for bcolz ... \u001b[?25l-\b \b\\\b \b|\b \b/\b \b-\b \b\\\b \b|\b \b/\b \b-\b \b\\\b \b|\b \b/\b \b-\b \b\\\b \b|\b \b/\b \b-\b \b\\\b \b|\b \b/\b \b-\b \b\\\b \b|\b \b/\b \b-\b \b\\\b \b|\b \b/\b \b-\b \b\\\b \b|\b \b/\b \b-\b \b\\\b \b|\b \b/\b \b-\b \b\\\b \b|\b \b/\b \b-\b \b\\\b \b|\b \b/\b \b-\b \b\\\b \b|\b \b/\b \b-\b \b\\\b \b|\b \b/\b \b-\b \b\\\b \b|\b \b/\b \b-\b \b\\\b \b|\b \b/\b \b-\b \b\\\b \b|\b \bdone\n",
            "\u001b[?25h  Stored in directory: /content/.cache/pip/wheels/9f/78/26/fb8c0acb91a100dc8914bf236c4eaa4b207cb876893c40b745\n",
            "  Running setup.py bdist_wheel for feather-format ... \u001b[?25l-\b \bdone\n",
            "\u001b[?25h  Stored in directory: /content/.cache/pip/wheels/85/7d/12/2dfa5c0195f921ac935f5e8f27deada74972edc0ae9988a9c1\n",
            "  Running setup.py bdist_wheel for pandas-summary ... \u001b[?25l-\b \bdone\n",
            "\u001b[?25h  Stored in directory: /content/.cache/pip/wheels/86/a9/6b/36b727a9ec687dac08bd3d0501cddd7b1a223943513eb04a03\n",
            "  Running setup.py bdist_wheel for torchtext ... \u001b[?25l-\b \b\\\b \bdone\n",
            "\u001b[?25h  Stored in directory: /content/.cache/pip/wheels/42/a6/f4/b267328bde6bb680094a0c173e8e5627ccc99543abded97204\n",
            "Successfully built fastai bcolz feather-format pandas-summary torchtext\n",
            "\u001b[31mplotnine 0.3.0 has requirement scipy>=1.0.0, but you'll have scipy 0.19.1 which is incompatible.\u001b[0m\n",
            "\u001b[31mtorchvision 0.2.1 has requirement pillow>=4.1.1, but you'll have pillow 4.0.0 which is incompatible.\u001b[0m\n",
            "Installing collected packages: bcolz, pyarrow, feather-format, graphviz, widgetsnbextension, ipywidgets, isoweek, parso, jedi, jupyter-console, qtconsole, jupyter, pandas-summary, palettable, mizani, plotnine, sklearn-pandas, torch, tqdm, torchtext, torchvision, fastai\n",
            "Successfully installed bcolz-1.2.1 fastai-0.7.0 feather-format-0.4.0 graphviz-0.8.3 ipywidgets-7.2.1 isoweek-1.3.3 jedi-0.12.0 jupyter-1.0.0 jupyter-console-5.2.0 mizani-0.4.6 palettable-3.1.1 pandas-summary-0.0.41 parso-0.2.1 plotnine-0.3.0 pyarrow-0.9.0 qtconsole-4.3.1 sklearn-pandas-1.6.0 torch-0.3.1 torchtext-0.2.3 torchvision-0.2.1 tqdm-4.23.4 widgetsnbextension-3.2.1\n",
            "Requirement already satisfied: opencv-python in /usr/local/lib/python3.6/dist-packages (3.4.1.15)\n",
            "Requirement already satisfied: numpy>=1.11.3 in /usr/local/lib/python3.6/dist-packages (from opencv-python) (1.14.3)\n",
            "\u001b[31mtorchvision 0.2.1 has requirement pillow>=4.1.1, but you'll have pillow 4.0.0 which is incompatible.\u001b[0m\n",
            "\u001b[31mplotnine 0.3.0 has requirement scipy>=1.0.0, but you'll have scipy 0.19.1 which is incompatible.\u001b[0m\n",
            "Get:1 http://security.ubuntu.com/ubuntu artful-security InRelease [83.2 kB]\n",
            "Hit:2 http://archive.ubuntu.com/ubuntu artful InRelease\n",
            "Get:3 http://archive.ubuntu.com/ubuntu artful-updates InRelease [88.7 kB]\n",
            "Get:4 http://archive.ubuntu.com/ubuntu artful-backports InRelease [74.6 kB]\n",
            "0% [3 InRelease gpgv 88.7 kB] [Waiting for headers]\u001b[0m"
          ],
          "name": "stdout"
        },
        {
          "output_type": "stream",
          "text": [
            "Get:5 http://security.ubuntu.com/ubuntu artful-security/universe Sources [20.5 kB]\n",
            "Get:6 http://archive.ubuntu.com/ubuntu artful-updates/universe Sources [43.2 kB]\n",
            "Get:7 http://security.ubuntu.com/ubuntu artful-security/restricted amd64 Packages [2,933 B]\n",
            "Get:8 http://security.ubuntu.com/ubuntu artful-security/universe amd64 Packages [77.6 kB]\n",
            "Get:9 http://security.ubuntu.com/ubuntu artful-security/main amd64 Packages [220 kB]\n",
            "Get:10 http://archive.ubuntu.com/ubuntu artful-updates/universe amd64 Packages [141 kB]\n",
            "Get:11 http://archive.ubuntu.com/ubuntu artful-updates/multiverse amd64 Packages [4,371 B]\n",
            "Get:12 http://security.ubuntu.com/ubuntu artful-security/multiverse amd64 Packages [1,815 B]\n",
            "Get:13 http://archive.ubuntu.com/ubuntu artful-updates/main amd64 Packages [347 kB]\n",
            "Get:14 http://archive.ubuntu.com/ubuntu artful-updates/restricted amd64 Packages [2,933 B]\n",
            "Fetched 1,108 kB in 1s (571 kB/s)\n",
            "Reading package lists... Done\n",
            "Building dependency tree       \n",
            "Reading state information... Done\n",
            "12 packages can be upgraded. Run 'apt list --upgradable' to see them.\n",
            "Reading package lists... Done\n",
            "Building dependency tree       \n",
            "Reading state information... Done\n",
            "libsm6 is already the newest version (2:1.2.2-1).\n",
            "libxext6 is already the newest version (2:1.3.3-1).\n",
            "0 upgraded, 0 newly installed, 0 to remove and 12 not upgraded.\n",
            "Collecting torch==0.3.0.post4 from http://download.pytorch.org/whl/cu80/torch-0.3.0.post4-cp36-cp36m-linux_x86_64.whl\n",
            "\u001b[?25l  Downloading http://download.pytorch.org/whl/cu80/torch-0.3.0.post4-cp36-cp36m-linux_x86_64.whl (592.3MB)\n",
            "\u001b[K    16% |█████▍                          | 100.7MB 43.2MB/s eta 0:00:12"
          ],
          "name": "stdout"
        },
        {
          "output_type": "stream",
          "text": [
            "\u001b[K    100% |████████████████████████████████| 592.3MB 53.1MB/s \n",
            "\u001b[?25hRequirement already satisfied: numpy in /usr/local/lib/python3.6/dist-packages (from torch==0.3.0.post4) (1.14.3)\n",
            "Requirement already satisfied: pyyaml in /usr/local/lib/python3.6/dist-packages (from torch==0.3.0.post4) (3.12)\n",
            "\u001b[31mtorchvision 0.2.1 has requirement pillow>=4.1.1, but you'll have pillow 4.0.0 which is incompatible.\u001b[0m\n",
            "\u001b[31mplotnine 0.3.0 has requirement scipy>=1.0.0, but you'll have scipy 0.19.1 which is incompatible.\u001b[0m\n",
            "Installing collected packages: torch\n",
            "  Found existing installation: torch 0.3.1\n",
            "    Uninstalling torch-0.3.1:\n",
            "      Successfully uninstalled torch-0.3.1\n",
            "Successfully installed torch-0.3.0.post4\n",
            "Requirement already satisfied: torchvision in /usr/local/lib/python3.6/dist-packages (0.2.1)\n",
            "Collecting pillow>=4.1.1 (from torchvision)\n",
            "\u001b[?25l  Downloading https://files.pythonhosted.org/packages/5f/4b/8b54ab9d37b93998c81b364557dff9f61972c0f650efa0ceaf470b392740/Pillow-5.1.0-cp36-cp36m-manylinux1_x86_64.whl (2.0MB)\n",
            "\u001b[K    100% |████████████████████████████████| 2.0MB 7.4MB/s \n",
            "\u001b[?25hRequirement already satisfied: numpy in /usr/local/lib/python3.6/dist-packages (from torchvision) (1.14.3)\n",
            "Requirement already satisfied: six in /usr/local/lib/python3.6/dist-packages (from torchvision) (1.11.0)\n",
            "Requirement already satisfied: torch in /usr/local/lib/python3.6/dist-packages (from torchvision) (0.3.0.post4)\n",
            "Requirement already satisfied: pyyaml in /usr/local/lib/python3.6/dist-packages (from torch->torchvision) (3.12)\n",
            "\u001b[31mplotnine 0.3.0 has requirement scipy>=1.0.0, but you'll have scipy 0.19.1 which is incompatible.\u001b[0m\n",
            "Installing collected packages: pillow\n",
            "  Found existing installation: Pillow 4.0.0\n",
            "    Uninstalling Pillow-4.0.0:\n",
            "      Successfully uninstalled Pillow-4.0.0\n",
            "Successfully installed pillow-5.1.0\n"
          ],
          "name": "stdout"
        }
      ]
    },
    {
      "metadata": {
        "id": "qqYmYDICcE9f",
        "colab_type": "code",
        "colab": {}
      },
      "cell_type": "code",
      "source": [
        "!apt-get install p7zip-full"
      ],
      "execution_count": 0,
      "outputs": []
    },
    {
      "metadata": {
        "id": "lqKUy3ghrwM-",
        "colab_type": "code",
        "colab": {
          "base_uri": "https://localhost:8080/",
          "height": 141
        },
        "outputId": "d385299b-5a2a-4bcf-850d-e9085716c456"
      },
      "cell_type": "code",
      "source": [
        "!pip install --no-cache-dir -I pillow"
      ],
      "execution_count": 60,
      "outputs": [
        {
          "output_type": "stream",
          "text": [
            "Collecting pillow\n",
            "\u001b[?25l  Downloading https://files.pythonhosted.org/packages/5f/4b/8b54ab9d37b93998c81b364557dff9f61972c0f650efa0ceaf470b392740/Pillow-5.1.0-cp36-cp36m-manylinux1_x86_64.whl (2.0MB)\n",
            "\u001b[K    100% |████████████████████████████████| 2.0MB 23.5MB/s \n",
            "\u001b[31mplotnine 0.3.0 has requirement scipy>=1.0.0, but you'll have scipy 0.19.1 which is incompatible.\u001b[0m\n",
            "\u001b[?25hInstalling collected packages: pillow\n",
            "Successfully installed pillow-5.1.0\n"
          ],
          "name": "stdout"
        }
      ]
    },
    {
      "metadata": {
        "id": "ZGS4DM72RMWA",
        "colab_type": "text"
      },
      "cell_type": "markdown",
      "source": [
        "## Imports"
      ]
    },
    {
      "metadata": {
        "id": "_DiNBic0RPVK",
        "colab_type": "code",
        "colab": {}
      },
      "cell_type": "code",
      "source": [
        "%matplotlib inline\n",
        "#%reload_ext autoreload\n",
        "#%autoreload 2"
      ],
      "execution_count": 0,
      "outputs": []
    },
    {
      "metadata": {
        "id": "7s42ZGONRPT2",
        "colab_type": "code",
        "colab": {}
      },
      "cell_type": "code",
      "source": [
        "\n",
        "\n",
        "# This file contains all the main external libs we'll use\n",
        "from fastai.imports import *\n",
        "from fastai.transforms import *\n",
        "from fastai.conv_learner import *\n",
        "from fastai.model import *\n",
        "from fastai.dataset import *\n",
        "from fastai.sgdr import *\n",
        "from fastai.plots import *\n",
        "from pathlib import Path"
      ],
      "execution_count": 0,
      "outputs": []
    },
    {
      "metadata": {
        "id": "uD5b4Uks6aau",
        "colab_type": "code",
        "colab": {}
      },
      "cell_type": "code",
      "source": [
        "#!rm -r  planet/tmp"
      ],
      "execution_count": 0,
      "outputs": []
    },
    {
      "metadata": {
        "id": "SNrZoyXJN1LB",
        "colab_type": "text"
      },
      "cell_type": "markdown",
      "source": [
        "## Download Data"
      ]
    },
    {
      "metadata": {
        "id": "vO_rdGwI1fN2",
        "colab_type": "code",
        "colab": {}
      },
      "cell_type": "code",
      "source": [
        "!mkdir planet"
      ],
      "execution_count": 0,
      "outputs": []
    },
    {
      "metadata": {
        "id": "2T4wrlUZZGJs",
        "colab_type": "code",
        "colab": {
          "base_uri": "https://localhost:8080/",
          "height": 1181
        },
        "outputId": "12f97b50-0097-469c-d6f4-953d8a9995a5"
      },
      "cell_type": "code",
      "source": [
        "!wget --header=\"Host: storage.googleapis.com\" --header=\"User-Agent: Mozilla/5.0 (Macintosh; Intel Mac OS X 10_11_3) AppleWebKit/537.36 (KHTML, like Gecko) Chrome/66.0.3359.181 Safari/537.36\" --header=\"Accept: text/html,application/xhtml+xml,application/xml;q=0.9,image/webp,image/apng,*/*;q=0.8\" --header=\"Accept-Language: en-US,en;q=0.9\" \"https://storage.googleapis.com/kaggle-competitions-data/kaggle/6322/train-jpg.tar.7z?GoogleAccessId=web-data@kaggle-161607.iam.gserviceaccount.com&Expires=1527898376&Signature=QLMBMKykCOKzaZVXMk3R7J8dSR9iEByyI7U6ujxjMmhL4SsDbJJn70x%2BSOyGQaUIq9NKMiZC4rO%2FE%2Bm5A8yaCo2NnUlU2AmPMwMW2d1pQwW4sujvb8gajPUWjYE8bi7LXJXfCBLPCImo3nIT1KQhXX3y3YTOCcJshixkUVoaSiayen6eV2o1b8rViEdWiTlfGLaMoa63a%2BwfPBWvSKpSpowtpWIBLD7lXwqBO8QxaWOmRBCZhq0CzcSY1ft3U0ptrce78rFnI1EP5jx6d2HpDmbl4iW93DmZtzVNzVwD1xLwttVJI3AZbt2INN7sF00v%2B%2BMZMiuaoL7g9XwAvzZUyw%3D%3D\" -O \"train-jpg.tar.7z\" -c\n",
        "!wget --header=\"Host: storage.googleapis.com\" --header=\"User-Agent: Mozilla/5.0 (Macintosh; Intel Mac OS X 10_11_3) AppleWebKit/537.36 (KHTML, like Gecko) Chrome/66.0.3359.181 Safari/537.36\" --header=\"Accept: text/html,application/xhtml+xml,application/xml;q=0.9,image/webp,image/apng,*/*;q=0.8\" --header=\"Accept-Language: en-US,en;q=0.9\" \"https://storage.googleapis.com/kaggle-competitions-data/kaggle/6322/train_v2.csv.zip?GoogleAccessId=web-data@kaggle-161607.iam.gserviceaccount.com&Expires=1527898423&Signature=p%2B3rDB3IuxFvdfKKwqqcohICsDNQKqM6lQLRj5gTENcyFwLKMTpxjv6A%2BOr2V448f7%2FLIeZ2dhNhVM7tsHorwuoFDFlvjQKgjr0Z4B%2F9M5mJqx9sBC4da3C%2FyY7BQnk%2F%2BQjVbdaFljwJbrJHg7WnxCqZFKeA%2ByphgRN0EECnp%2B%2FWMwNRKoQ5oguJfCu4mOUSvaBjwKMbz8RKHoilo7qsjvIqfboak%2B8uYe7j4fzSHRcm2joXiWq6KSuUo3cikNmeEjg%2BOOjb%2Fa5D3NQqKmLlvLDKMwMHolhIz7rG1EEq4gBPO00tr26DMzLtQQ5YbcyijvsIvBwSS%2B3ZOylwUDaupw%3D%3D\" -O \"train_v2.csv.zip\" -c\n",
        "!wget --header=\"Host: storage.googleapis.com\" --header=\"User-Agent: Mozilla/5.0 (Macintosh; Intel Mac OS X 10_11_3) AppleWebKit/537.36 (KHTML, like Gecko) Chrome/66.0.3359.181 Safari/537.36\" --header=\"Accept: text/html,application/xhtml+xml,application/xml;q=0.9,image/webp,image/apng,*/*;q=0.8\" --header=\"Accept-Language: en-US,en;q=0.9\" \"https://storage.googleapis.com/kaggle-competitions-data/kaggle/6322/test_v2_file_mapping.csv.zip?GoogleAccessId=web-data@kaggle-161607.iam.gserviceaccount.com&Expires=1527898459&Signature=lm%2BEqwBcAccngUqhOPdVBZ3HfC6oDEQDF2JtHiHbILAOdzj27wQ6IAjtsPjATmX%2BKamKc96YM5wtclSPXWniY5E9I6GKzKnm44lLRnjihaYRX2%2FcPUHvrT4JGmVJCoWN6%2FXpLeWkLTKmwdLqW1DnJIqyjY5pVWRgYJG9%2FqFHYrbmjjI3fJpVYTU1mvrpatkOG6rWgQwqkYPsy6IXIvmk3ABCGviQcc%2FAVSaXqSsXI4kGitKCxehjON%2BciDVuVpDuRVDXKrR%2FmSo50pkCAg24XKuiDzcyq%2BteULmX3HPPrWWqkjCz1bReaLEWnVGMkpQBemD5HhPbMZhCXWCL5FN13w%3D%3D\" -O \"test_v2_file_mapping.csv.zip\" -c\n",
        "!wget --header=\"Host: storage.googleapis.com\" --header=\"User-Agent: Mozilla/5.0 (Macintosh; Intel Mac OS X 10_11_3) AppleWebKit/537.36 (KHTML, like Gecko) Chrome/66.0.3359.181 Safari/537.36\" --header=\"Accept: text/html,application/xhtml+xml,application/xml;q=0.9,image/webp,image/apng,*/*;q=0.8\" --header=\"Accept-Language: en-US,en;q=0.9\" \"https://storage.googleapis.com/kaggle-competitions-data/kaggle/6322/test-jpg.tar.7z?GoogleAccessId=web-data@kaggle-161607.iam.gserviceaccount.com&Expires=1527898490&Signature=HX03faLgOSaFsXNdcOwtx5fgzz8ev3MOqjny22DEZKE%2BER9UDcLEerijZxVMnVvdZl9iqKVVPA8ffJgBtloqT0SJjzn0i%2BCFctB1O5lxDloVh73kj8AeAfwtHYq3Y87JB4ROyibrIancXl1DI528y0G%2FR2VzvLNxSiCIkG5blFLd94lp3BEbALJh6qJXc1A305D0azMP0q5ylhSkHGdpj1ZodbyaOJXpZHGOzUrqAUW%2BgBKNF73og0BKe%2Bq4uP8z4hzTf1zpr1Gi7kA4iUf1dWzPs0emLZBb93uX3HY9QUdZbAseNSin1qiAge7HbWkQq7dN0fT4%2Fbe%2FTSccJ4krcg%3D%3D\" -O \"test-jpg.tar.7z\" -c\n",
        "!wget --header=\"Host: storage.googleapis.com\" --header=\"User-Agent: Mozilla/5.0 (Macintosh; Intel Mac OS X 10_11_3) AppleWebKit/537.36 (KHTML, like Gecko) Chrome/66.0.3359.181 Safari/537.36\" --header=\"Accept: text/html,application/xhtml+xml,application/xml;q=0.9,image/webp,image/apng,*/*;q=0.8\" --header=\"Accept-Language: en-US,en;q=0.9\" \"https://storage.googleapis.com/kaggle-competitions-data/kaggle/6322/test-jpg-additional.tar.7z?GoogleAccessId=web-data@kaggle-161607.iam.gserviceaccount.com&Expires=1527898519&Signature=WVlBsEtn4t0ze0BsQ1Ii7JwiixMWaXS7QOQUdrenzeXd3gIYRZcOjAPpH1h90MZsm5fZ6QAnZGV9OlOTxGuDCt14s0zgqiYBMzW8mk2Gh%2F%2BwLgs8Y3b4SPVNnqIxMXXjngE3QfddPA8uilZus%2BQYt2A8Vn1%2FiuWnWhySOF3rLBVLODq1VAVEhY4ujLlkNa1kOtt60NlOn%2FVnZqCDI7LAjTE63MQJQY7bkgDrfdA%2FfUzFTguGEns7LiD3ieVb4edWhOqxa3xtsxDxPojzphvyljJhyNs58HecobzCsz7LaPi5N7j22TROqRHmD70XeevlF%2BNpTmIzvGOzJ4nHwndpcw%3D%3D\" -O \"test-jpg-additional.tar.7z\" -c\n",
        "!wget --header=\"Host: storage.googleapis.com\" --header=\"User-Agent: Mozilla/5.0 (Macintosh; Intel Mac OS X 10_11_3) AppleWebKit/537.36 (KHTML, like Gecko) Chrome/66.0.3359.181 Safari/537.36\" --header=\"Accept: text/html,application/xhtml+xml,application/xml;q=0.9,image/webp,image/apng,*/*;q=0.8\" --header=\"Accept-Language: en-US,en;q=0.9\" \"https://storage.googleapis.com/kaggle-competitions-data/kaggle/6322/sample_submission_v2.csv.zip?GoogleAccessId=web-data@kaggle-161607.iam.gserviceaccount.com&Expires=1527898543&Signature=AsR7mbE%2Fo3XOUxUBAQRb1bl5PVjiG%2FsyvTs0t1hKBNPStTAwn%2BbFGD1rRTlY7IkYpt%2FyD6UpqNXKzNuwAOjt0jObOZgwctVLDJ2ziljZuU5LQSCml9pC7S1ZOC%2B5vnalABlGMTGeOGDkJ0Cv0NR8XjWC6hRs3y8%2BRkLqk5c%2BdsHbjSdvFBSSPMS1OA3fea6t9gc0gaSBDV92XnSTnTLD0w4oP2Lw9vKrOLzCxBeCD9bKfJRD%2FVmzmIaVF8aCNFXnXzSWYv6QObMcW%2BR02mier6Ar2hHSg20H1BxoUM5er8F5uVzhGolcf2yORnWOVSp59SFbgO5ZwgyqF5bkBpK9Rw%3D%3D\" -O \"sample_submission_v2.csv.zip\" -c"
      ],
      "execution_count": 4,
      "outputs": [
        {
          "output_type": "stream",
          "text": [
            "--2018-05-30 00:16:16--  https://storage.googleapis.com/kaggle-competitions-data/kaggle/6322/train-jpg.tar.7z?GoogleAccessId=web-data@kaggle-161607.iam.gserviceaccount.com&Expires=1527898376&Signature=QLMBMKykCOKzaZVXMk3R7J8dSR9iEByyI7U6ujxjMmhL4SsDbJJn70x%2BSOyGQaUIq9NKMiZC4rO%2FE%2Bm5A8yaCo2NnUlU2AmPMwMW2d1pQwW4sujvb8gajPUWjYE8bi7LXJXfCBLPCImo3nIT1KQhXX3y3YTOCcJshixkUVoaSiayen6eV2o1b8rViEdWiTlfGLaMoa63a%2BwfPBWvSKpSpowtpWIBLD7lXwqBO8QxaWOmRBCZhq0CzcSY1ft3U0ptrce78rFnI1EP5jx6d2HpDmbl4iW93DmZtzVNzVwD1xLwttVJI3AZbt2INN7sF00v%2B%2BMZMiuaoL7g9XwAvzZUyw%3D%3D\r\n",
            "Resolving storage.googleapis.com (storage.googleapis.com)... 74.125.197.128, 2607:f8b0:400e:c08::80\r\n",
            "Connecting to storage.googleapis.com (storage.googleapis.com)|74.125.197.128|:443... connected.\n",
            "HTTP request sent, awaiting response... 200 OK\n",
            "Length: 629296207 (600M) [application/x-7z-compressed]\n",
            "Saving to: ‘train-jpg.tar.7z’\n",
            "\n",
            "train-jpg.tar.7z    100%[===================>] 600.14M   171MB/s    in 5.0s    \n",
            "\n",
            "2018-05-30 00:16:21 (121 MB/s) - ‘train-jpg.tar.7z’ saved [629296207/629296207]\n",
            "\n",
            "--2018-05-30 00:16:22--  https://storage.googleapis.com/kaggle-competitions-data/kaggle/6322/train_v2.csv.zip?GoogleAccessId=web-data@kaggle-161607.iam.gserviceaccount.com&Expires=1527898423&Signature=p%2B3rDB3IuxFvdfKKwqqcohICsDNQKqM6lQLRj5gTENcyFwLKMTpxjv6A%2BOr2V448f7%2FLIeZ2dhNhVM7tsHorwuoFDFlvjQKgjr0Z4B%2F9M5mJqx9sBC4da3C%2FyY7BQnk%2F%2BQjVbdaFljwJbrJHg7WnxCqZFKeA%2ByphgRN0EECnp%2B%2FWMwNRKoQ5oguJfCu4mOUSvaBjwKMbz8RKHoilo7qsjvIqfboak%2B8uYe7j4fzSHRcm2joXiWq6KSuUo3cikNmeEjg%2BOOjb%2Fa5D3NQqKmLlvLDKMwMHolhIz7rG1EEq4gBPO00tr26DMzLtQQ5YbcyijvsIvBwSS%2B3ZOylwUDaupw%3D%3D\n",
            "Resolving storage.googleapis.com (storage.googleapis.com)... 74.125.195.128, 2607:f8b0:400e:c09::80\n",
            "Connecting to storage.googleapis.com (storage.googleapis.com)|74.125.195.128|:443... connected.\n",
            "HTTP request sent, awaiting response... 200 OK\n",
            "Length: 162930 (159K) [application/zip]\n",
            "Saving to: ‘train_v2.csv.zip’\n",
            "\n",
            "train_v2.csv.zip    100%[===================>] 159.11K  --.-KB/s    in 0.003s  \n",
            "\n",
            "2018-05-30 00:16:22 (58.3 MB/s) - ‘train_v2.csv.zip’ saved [162930/162930]\n",
            "\n",
            "--2018-05-30 00:16:23--  https://storage.googleapis.com/kaggle-competitions-data/kaggle/6322/test_v2_file_mapping.csv.zip?GoogleAccessId=web-data@kaggle-161607.iam.gserviceaccount.com&Expires=1527898459&Signature=lm%2BEqwBcAccngUqhOPdVBZ3HfC6oDEQDF2JtHiHbILAOdzj27wQ6IAjtsPjATmX%2BKamKc96YM5wtclSPXWniY5E9I6GKzKnm44lLRnjihaYRX2%2FcPUHvrT4JGmVJCoWN6%2FXpLeWkLTKmwdLqW1DnJIqyjY5pVWRgYJG9%2FqFHYrbmjjI3fJpVYTU1mvrpatkOG6rWgQwqkYPsy6IXIvmk3ABCGviQcc%2FAVSaXqSsXI4kGitKCxehjON%2BciDVuVpDuRVDXKrR%2FmSo50pkCAg24XKuiDzcyq%2BteULmX3HPPrWWqkjCz1bReaLEWnVGMkpQBemD5HhPbMZhCXWCL5FN13w%3D%3D\n",
            "Resolving storage.googleapis.com (storage.googleapis.com)... 108.177.98.128, 2607:f8b0:400e:c09::80\n",
            "Connecting to storage.googleapis.com (storage.googleapis.com)|108.177.98.128|:443... connected.\n",
            "HTTP request sent, awaiting response... 200 OK\n",
            "Length: 112887 (110K) [application/zip]\n",
            "Saving to: ‘test_v2_file_mapping.csv.zip’\n",
            "\n",
            "test_v2_file_mappin 100%[===================>] 110.24K  --.-KB/s    in 0.002s  \n",
            "\n",
            "2018-05-30 00:16:23 (60.1 MB/s) - ‘test_v2_file_mapping.csv.zip’ saved [112887/112887]\n",
            "\n",
            "--2018-05-30 00:16:24--  https://storage.googleapis.com/kaggle-competitions-data/kaggle/6322/test-jpg.tar.7z?GoogleAccessId=web-data@kaggle-161607.iam.gserviceaccount.com&Expires=1527898490&Signature=HX03faLgOSaFsXNdcOwtx5fgzz8ev3MOqjny22DEZKE%2BER9UDcLEerijZxVMnVvdZl9iqKVVPA8ffJgBtloqT0SJjzn0i%2BCFctB1O5lxDloVh73kj8AeAfwtHYq3Y87JB4ROyibrIancXl1DI528y0G%2FR2VzvLNxSiCIkG5blFLd94lp3BEbALJh6qJXc1A305D0azMP0q5ylhSkHGdpj1ZodbyaOJXpZHGOzUrqAUW%2BgBKNF73og0BKe%2Bq4uP8z4hzTf1zpr1Gi7kA4iUf1dWzPs0emLZBb93uX3HY9QUdZbAseNSin1qiAge7HbWkQq7dN0fT4%2Fbe%2FTSccJ4krcg%3D%3D\n",
            "Resolving storage.googleapis.com (storage.googleapis.com)... 74.125.195.128, 2607:f8b0:400e:c03::80\n",
            "Connecting to storage.googleapis.com (storage.googleapis.com)|74.125.195.128|:443... connected.\n",
            "HTTP request sent, awaiting response... 200 OK\n",
            "Length: 632362315 (603M) [application/x-7z-compressed]\n",
            "Saving to: ‘test-jpg.tar.7z’\n",
            "\n",
            "test-jpg.tar.7z      75%[==============>     ] 452.40M   145MB/s    eta 1s     "
          ],
          "name": "stdout"
        },
        {
          "output_type": "stream",
          "text": [
            "test-jpg.tar.7z     100%[===================>] 603.07M   154MB/s    in 4.0s    \n",
            "\n",
            "2018-05-30 00:16:29 (151 MB/s) - ‘test-jpg.tar.7z’ saved [632362315/632362315]\n",
            "\n",
            "--2018-05-30 00:16:30--  https://storage.googleapis.com/kaggle-competitions-data/kaggle/6322/test-jpg-additional.tar.7z?GoogleAccessId=web-data@kaggle-161607.iam.gserviceaccount.com&Expires=1527898519&Signature=WVlBsEtn4t0ze0BsQ1Ii7JwiixMWaXS7QOQUdrenzeXd3gIYRZcOjAPpH1h90MZsm5fZ6QAnZGV9OlOTxGuDCt14s0zgqiYBMzW8mk2Gh%2F%2BwLgs8Y3b4SPVNnqIxMXXjngE3QfddPA8uilZus%2BQYt2A8Vn1%2FiuWnWhySOF3rLBVLODq1VAVEhY4ujLlkNa1kOtt60NlOn%2FVnZqCDI7LAjTE63MQJQY7bkgDrfdA%2FfUzFTguGEns7LiD3ieVb4edWhOqxa3xtsxDxPojzphvyljJhyNs58HecobzCsz7LaPi5N7j22TROqRHmD70XeevlF%2BNpTmIzvGOzJ4nHwndpcw%3D%3D\n",
            "Resolving storage.googleapis.com (storage.googleapis.com)... 74.125.195.128, 2607:f8b0:400e:c03::80\n",
            "Connecting to storage.googleapis.com (storage.googleapis.com)|74.125.195.128|:443... connected.\n",
            "HTTP request sent, awaiting response... 200 OK\n",
            "Length: 318407195 (304M) [application/x-7z-compressed]\n",
            "Saving to: ‘test-jpg-additional.tar.7z’\n",
            "\n",
            "test-jpg-additional 100%[===================>] 303.66M   159MB/s    in 1.9s    \n",
            "\n",
            "2018-05-30 00:16:32 (159 MB/s) - ‘test-jpg-additional.tar.7z’ saved [318407195/318407195]\n",
            "\n",
            "--2018-05-30 00:16:33--  https://storage.googleapis.com/kaggle-competitions-data/kaggle/6322/sample_submission_v2.csv.zip?GoogleAccessId=web-data@kaggle-161607.iam.gserviceaccount.com&Expires=1527898543&Signature=AsR7mbE%2Fo3XOUxUBAQRb1bl5PVjiG%2FsyvTs0t1hKBNPStTAwn%2BbFGD1rRTlY7IkYpt%2FyD6UpqNXKzNuwAOjt0jObOZgwctVLDJ2ziljZuU5LQSCml9pC7S1ZOC%2B5vnalABlGMTGeOGDkJ0Cv0NR8XjWC6hRs3y8%2BRkLqk5c%2BdsHbjSdvFBSSPMS1OA3fea6t9gc0gaSBDV92XnSTnTLD0w4oP2Lw9vKrOLzCxBeCD9bKfJRD%2FVmzmIaVF8aCNFXnXzSWYv6QObMcW%2BR02mier6Ar2hHSg20H1BxoUM5er8F5uVzhGolcf2yORnWOVSp59SFbgO5ZwgyqF5bkBpK9Rw%3D%3D\n",
            "Resolving storage.googleapis.com (storage.googleapis.com)... 74.125.195.128, 2607:f8b0:400e:c09::80\n",
            "Connecting to storage.googleapis.com (storage.googleapis.com)|74.125.195.128|:443... connected.\n",
            "HTTP request sent, awaiting response... 200 OK\n",
            "Length: 157221 (154K) [application/zip]\n",
            "Saving to: ‘sample_submission_v2.csv.zip’\n",
            "\n",
            "sample_submission_v 100%[===================>] 153.54K  --.-KB/s    in 0.003s  \n",
            "\n",
            "2018-05-30 00:16:33 (47.3 MB/s) - ‘sample_submission_v2.csv.zip’ saved [157221/157221]\n",
            "\n"
          ],
          "name": "stdout"
        }
      ]
    },
    {
      "metadata": {
        "id": "B92IzplWaueZ",
        "colab_type": "code",
        "colab": {}
      },
      "cell_type": "code",
      "source": [
        "!7z x -so test-jpg-additional.tar.7z | tar xf - -C planet\n",
        "!7z x -so test-jpg.tar.7z | tar xf - -C planet\n",
        "!7z x -so train-jpg.tar.7z | tar xf - -C planet\n",
        "!unzip sample_submission_v2.csv.zip -d planet\n",
        "!unzip test_v2_file_mapping.csv.zip -d planet\n",
        "!unzip train_v2.csv.zip -d planet"
      ],
      "execution_count": 0,
      "outputs": []
    },
    {
      "metadata": {
        "id": "e_5Qu4taS0IK",
        "colab_type": "code",
        "colab": {
          "base_uri": "https://localhost:8080/",
          "height": 69
        },
        "outputId": "ab5cf177-d6da-4d18-b34b-16742e8d45b2"
      },
      "cell_type": "code",
      "source": [
        "!ls planet"
      ],
      "execution_count": 19,
      "outputs": [
        {
          "output_type": "stream",
          "text": [
            "__MACOSX\t\t  test-jpg-additional\t    train_v2.csv\r\n",
            "sample_submission_v2.csv  test_v2_file_mapping.csv\r\n",
            "test-jpg\t\t  train-jpg\r\n"
          ],
          "name": "stdout"
        }
      ]
    },
    {
      "metadata": {
        "id": "qxdrsl2-5D8B",
        "colab_type": "text"
      },
      "cell_type": "markdown",
      "source": [
        "##Download Model"
      ]
    },
    {
      "metadata": {
        "id": "6Yk5_ensLhZI",
        "colab_type": "code",
        "colab": {}
      },
      "cell_type": "code",
      "source": [
        "#!wget http://files.fast.ai/models/weights.tgz -d /usr/local/lib/python3.6/dist-packages/fastai"
      ],
      "execution_count": 0,
      "outputs": []
    },
    {
      "metadata": {
        "id": "IWOWSVM8MPMb",
        "colab_type": "code",
        "colab": {}
      },
      "cell_type": "code",
      "source": [
        "#!tar -xvzf weights.tgz"
      ],
      "execution_count": 0,
      "outputs": []
    },
    {
      "metadata": {
        "id": "zv8yPAULO-q7",
        "colab_type": "code",
        "colab": {}
      },
      "cell_type": "code",
      "source": [
        "#!mv weights /usr/local/lib/python3.6/dist-packages/fastai/\n"
      ],
      "execution_count": 0,
      "outputs": []
    },
    {
      "metadata": {
        "id": "XlsI2BeOIngs",
        "colab_type": "text"
      },
      "cell_type": "markdown",
      "source": [
        "##Explore Data"
      ]
    },
    {
      "metadata": {
        "id": "VieuPfSdd4Hf",
        "colab_type": "code",
        "colab": {}
      },
      "cell_type": "code",
      "source": [
        "PATH = Path(\"/content/planet/\")"
      ],
      "execution_count": 0,
      "outputs": []
    },
    {
      "metadata": {
        "id": "0OhB_l8EdW_t",
        "colab_type": "code",
        "colab": {
          "base_uri": "https://localhost:8080/",
          "height": 139
        },
        "outputId": "57b33eb5-b74a-4fc6-d308-f887991024e5"
      },
      "cell_type": "code",
      "source": [
        "list(PATH.iterdir())"
      ],
      "execution_count": 4,
      "outputs": [
        {
          "output_type": "execute_result",
          "data": {
            "text/plain": [
              "[PosixPath('/content/planet/sample_submission_v2.csv'),\n",
              " PosixPath('/content/planet/__MACOSX'),\n",
              " PosixPath('/content/planet/test_v2_file_mapping.csv'),\n",
              " PosixPath('/content/planet/train_v2.csv'),\n",
              " PosixPath('/content/planet/train-jpg'),\n",
              " PosixPath('/content/planet/test-jpg-additional'),\n",
              " PosixPath('/content/planet/test-jpg')]"
            ]
          },
          "metadata": {
            "tags": []
          },
          "execution_count": 4
        }
      ]
    },
    {
      "metadata": {
        "id": "s3m2zwIeffwI",
        "colab_type": "code",
        "colab": {}
      },
      "cell_type": "code",
      "source": [
        "label_csv = PATH/'train_v2.csv'"
      ],
      "execution_count": 0,
      "outputs": []
    },
    {
      "metadata": {
        "id": "Hyr4zoixfxfX",
        "colab_type": "code",
        "colab": {
          "base_uri": "https://localhost:8080/",
          "height": 202
        },
        "outputId": "d1e283d1-e09b-4c78-d71e-81c2179ada98"
      },
      "cell_type": "code",
      "source": [
        "label_df = pd.read_csv(label_csv)\n",
        "label_df.head()"
      ],
      "execution_count": 6,
      "outputs": [
        {
          "output_type": "execute_result",
          "data": {
            "text/html": [
              "<div>\n",
              "<style scoped>\n",
              "    .dataframe tbody tr th:only-of-type {\n",
              "        vertical-align: middle;\n",
              "    }\n",
              "\n",
              "    .dataframe tbody tr th {\n",
              "        vertical-align: top;\n",
              "    }\n",
              "\n",
              "    .dataframe thead th {\n",
              "        text-align: right;\n",
              "    }\n",
              "</style>\n",
              "<table border=\"1\" class=\"dataframe\">\n",
              "  <thead>\n",
              "    <tr style=\"text-align: right;\">\n",
              "      <th></th>\n",
              "      <th>image_name</th>\n",
              "      <th>tags</th>\n",
              "    </tr>\n",
              "  </thead>\n",
              "  <tbody>\n",
              "    <tr>\n",
              "      <th>0</th>\n",
              "      <td>train_0</td>\n",
              "      <td>haze primary</td>\n",
              "    </tr>\n",
              "    <tr>\n",
              "      <th>1</th>\n",
              "      <td>train_1</td>\n",
              "      <td>agriculture clear primary water</td>\n",
              "    </tr>\n",
              "    <tr>\n",
              "      <th>2</th>\n",
              "      <td>train_2</td>\n",
              "      <td>clear primary</td>\n",
              "    </tr>\n",
              "    <tr>\n",
              "      <th>3</th>\n",
              "      <td>train_3</td>\n",
              "      <td>clear primary</td>\n",
              "    </tr>\n",
              "    <tr>\n",
              "      <th>4</th>\n",
              "      <td>train_4</td>\n",
              "      <td>agriculture clear habitation primary road</td>\n",
              "    </tr>\n",
              "  </tbody>\n",
              "</table>\n",
              "</div>"
            ],
            "text/plain": [
              "  image_name                                       tags\n",
              "0    train_0                               haze primary\n",
              "1    train_1            agriculture clear primary water\n",
              "2    train_2                              clear primary\n",
              "3    train_3                              clear primary\n",
              "4    train_4  agriculture clear habitation primary road"
            ]
          },
          "metadata": {
            "tags": []
          },
          "execution_count": 6
        }
      ]
    },
    {
      "metadata": {
        "id": "TDe_758ldQmU",
        "colab_type": "text"
      },
      "cell_type": "markdown",
      "source": [
        "##Model"
      ]
    },
    {
      "metadata": {
        "id": "HTlBzt_cLw4Y",
        "colab_type": "code",
        "colab": {}
      },
      "cell_type": "code",
      "source": [
        "PATH = \"/content/planet/\"\n",
        "sz = 256\n",
        "arch = resnet34"
      ],
      "execution_count": 0,
      "outputs": []
    },
    {
      "metadata": {
        "id": "_d1oGwceLw7O",
        "colab_type": "code",
        "colab": {}
      },
      "cell_type": "code",
      "source": [
        "n = len(list(open(label_csv)))-1\n",
        "val_idxs = get_cv_idxs(n)"
      ],
      "execution_count": 0,
      "outputs": []
    },
    {
      "metadata": {
        "id": "L_yQevQLLxAI",
        "colab_type": "code",
        "colab": {}
      },
      "cell_type": "code",
      "source": [
        "def get_data(sz,bs=64):\n",
        "  tfms = tfms_from_model(arch,\n",
        "                         sz,\n",
        "                         aug_tfms=transforms_top_down,\n",
        "                         max_zoom=1.05)\n",
        "  \n",
        "  data = ImageClassifierData.from_csv(PATH,\n",
        "                                     'train-jpg',\n",
        "                                     label_csv,\n",
        "                                     val_idxs=val_idxs,\n",
        "                                     tfms=tfms,\n",
        "                                     suffix='.jpg',\n",
        "                                     test_name = 'test-jpg')\n",
        "  return data"
      ],
      "execution_count": 0,
      "outputs": []
    },
    {
      "metadata": {
        "id": "1faUsfJTMHTq",
        "colab_type": "code",
        "colab": {}
      },
      "cell_type": "code",
      "source": [
        "data = get_data(256)"
      ],
      "execution_count": 0,
      "outputs": []
    },
    {
      "metadata": {
        "id": "FjIP3SChoyXw",
        "colab_type": "code",
        "colab": {}
      },
      "cell_type": "code",
      "source": [
        "data_iter = iter(data.val_dl)"
      ],
      "execution_count": 0,
      "outputs": []
    },
    {
      "metadata": {
        "id": "ypwePJbZo8fO",
        "colab_type": "code",
        "colab": {}
      },
      "cell_type": "code",
      "source": [
        "x,y = next(data_iter)"
      ],
      "execution_count": 0,
      "outputs": []
    },
    {
      "metadata": {
        "id": "FoBBbkgVpAT7",
        "colab_type": "code",
        "colab": {
          "base_uri": "https://localhost:8080/",
          "height": 312
        },
        "outputId": "ac54d98b-d6d7-4e36-e1c1-b833caa0b65a"
      },
      "cell_type": "code",
      "source": [
        "list(zip(data.classes,y[0]))"
      ],
      "execution_count": 13,
      "outputs": [
        {
          "output_type": "execute_result",
          "data": {
            "text/plain": [
              "[('agriculture', 1.0),\n",
              " ('artisinal_mine', 0.0),\n",
              " ('bare_ground', 0.0),\n",
              " ('blooming', 0.0),\n",
              " ('blow_down', 0.0),\n",
              " ('clear', 1.0),\n",
              " ('cloudy', 0.0),\n",
              " ('conventional_mine', 0.0),\n",
              " ('cultivation', 0.0),\n",
              " ('habitation', 0.0),\n",
              " ('haze', 0.0),\n",
              " ('partly_cloudy', 0.0),\n",
              " ('primary', 1.0),\n",
              " ('road', 0.0),\n",
              " ('selective_logging', 0.0),\n",
              " ('slash_burn', 0.0),\n",
              " ('water', 1.0)]"
            ]
          },
          "metadata": {
            "tags": []
          },
          "execution_count": 13
        }
      ]
    },
    {
      "metadata": {
        "id": "xMqL7a_jpqwG",
        "colab_type": "code",
        "colab": {
          "base_uri": "https://localhost:8080/",
          "height": 269
        },
        "outputId": "a55fe5b6-6218-49d5-e939-9a98e0fe1943"
      },
      "cell_type": "code",
      "source": [
        "plt.imshow(data.val_ds.denorm(to_np(x))[0]*1.4);"
      ],
      "execution_count": 14,
      "outputs": [
        {
          "output_type": "display_data",
          "data": {
            "image/png": "[encoded data removed]",
            "text/plain": [
              "<matplotlib.figure.Figure at 0x7f9d51d5f3c8>"
            ]
          },
          "metadata": {
            "tags": []
          }
        }
      ]
    },
    {
      "metadata": {
        "id": "lKteeWSlqnLf",
        "colab_type": "code",
        "colab": {}
      },
      "cell_type": "code",
      "source": [
        "sz = 64"
      ],
      "execution_count": 0,
      "outputs": []
    },
    {
      "metadata": {
        "id": "-_qXdXawqpV6",
        "colab_type": "code",
        "colab": {
          "base_uri": "https://localhost:8080/",
          "height": 52
        },
        "outputId": "6c1c6233-0e49-46f4-8419-53de2790af94"
      },
      "cell_type": "code",
      "source": [
        "data = get_data(sz)\n",
        "data = data.resize(int(sz*1.3),'tmp')"
      ],
      "execution_count": 16,
      "outputs": [
        {
          "output_type": "display_data",
          "data": {
            "application/vnd.jupyter.widget-view+json": {
              "model_id": "a91274cd2f164905a2fa0d702809eb07",
              "version_minor": 0,
              "version_major": 2
            },
            "text/plain": [
              "HBox(children=(IntProgress(value=0, max=6), HTML(value='')))"
            ]
          },
          "metadata": {
            "tags": []
          }
        },
        {
          "output_type": "stream",
          "text": [
            "                                                      \n"
          ],
          "name": "stdout"
        }
      ]
    },
    {
      "metadata": {
        "id": "dyH0w8FRtTtl",
        "colab_type": "code",
        "colab": {}
      },
      "cell_type": "code",
      "source": [
        "from sklearn.metrics import fbeta_score\n",
        "import warnings\n",
        "\n",
        "def f2(preds, targs, start=0.17, end=0.24, step=0.01):\n",
        "    with warnings.catch_warnings():\n",
        "        warnings.simplefilter(\"ignore\")\n",
        "        return max([fbeta_score(targs, (preds>th), 2, average='samples')\n",
        "                    for th in np.arange(start,end,step)])"
      ],
      "execution_count": 0,
      "outputs": []
    },
    {
      "metadata": {
        "id": "CXVoVr6_LxDB",
        "colab_type": "code",
        "colab": {
          "base_uri": "https://localhost:8080/",
          "height": 72
        },
        "outputId": "adaeb774-5ad1-43d9-da0d-6cf66791150f"
      },
      "cell_type": "code",
      "source": [
        "metrics=[f2]\n",
        "learn = ConvLearner.pretrained(arch,data,metrics=metrics)"
      ],
      "execution_count": 18,
      "outputs": [
        {
          "output_type": "stream",
          "text": [
            "Downloading: \"https://download.pytorch.org/models/resnet34-333f7ec4.pth\" to /content/.torch/models/resnet34-333f7ec4.pth\n",
            "100%|██████████| 87306240/87306240 [00:03<00:00, 26742059.23it/s]\n"
          ],
          "name": "stderr"
        }
      ]
    },
    {
      "metadata": {
        "id": "nehVegB5qpN5",
        "colab_type": "code",
        "colab": {
          "base_uri": "https://localhost:8080/",
          "height": 107
        },
        "outputId": "20c94cda-e9a5-460e-f6e7-62b517b4b658"
      },
      "cell_type": "code",
      "source": [
        "learn.lr_find()\n",
        "learn.sched.plot()"
      ],
      "execution_count": 19,
      "outputs": [
        {
          "output_type": "display_data",
          "data": {
            "application/vnd.jupyter.widget-view+json": {
              "model_id": "6081df89882046fd987a0050d01fcdca",
              "version_minor": 0,
              "version_major": 2
            },
            "text/plain": [
              "HBox(children=(IntProgress(value=0, description='Epoch', max=1), HTML(value='')))"
            ]
          },
          "metadata": {
            "tags": []
          }
        },
        {
          "output_type": "stream",
          "text": [
            "epoch      trn_loss   val_loss   f2         \n",
            "    0      0.222521   0.267155   0.814794  \n",
            "\n"
          ],
          "name": "stdout"
        }
      ]
    },
    {
      "metadata": {
        "id": "omZ75O9rqlhL",
        "colab_type": "code",
        "colab": {
          "base_uri": "https://localhost:8080/",
          "height": 283
        },
        "outputId": "dbf3d8a3-9b7b-4df3-b2b9-7be0873a315b"
      },
      "cell_type": "code",
      "source": [
        "learn.sched.plot()"
      ],
      "execution_count": 20,
      "outputs": [
        {
          "output_type": "display_data",
          "data": {
            "image/png": "[encoded data removed]",
            "text/plain": [
              "<matplotlib.figure.Figure at 0x7f9c3b12beb8>"
            ]
          },
          "metadata": {
            "tags": []
          }
        }
      ]
    },
    {
      "metadata": {
        "id": "7B7RuF39LxF1",
        "colab_type": "code",
        "colab": {
          "base_uri": "https://localhost:8080/",
          "height": 159
        },
        "outputId": "1a659530-d045-47c2-d37a-1e7521f966fd"
      },
      "cell_type": "code",
      "source": [
        "learn.fit(.1,3)"
      ],
      "execution_count": 22,
      "outputs": [
        {
          "output_type": "display_data",
          "data": {
            "application/vnd.jupyter.widget-view+json": {
              "model_id": "14d034b20e92464d8a085f245662c64d",
              "version_minor": 0,
              "version_major": 2
            },
            "text/plain": [
              "HBox(children=(IntProgress(value=0, description='Epoch', max=3), HTML(value='')))"
            ]
          },
          "metadata": {
            "tags": []
          }
        },
        {
          "output_type": "stream",
          "text": [
            "epoch      trn_loss   val_loss   f2         \n",
            "    0      0.152688   0.133558   0.885349  \n",
            " 38%|███▊      | 191/506 [00:25<00:41,  7.59it/s, loss=0.146]"
          ],
          "name": "stdout"
        },
        {
          "output_type": "stream",
          "text": [
            "    1      0.143421   0.128419   0.888396  \n",
            " 78%|███████▊  | 397/506 [00:46<00:12,  8.54it/s, loss=0.14]"
          ],
          "name": "stdout"
        },
        {
          "output_type": "stream",
          "text": [
            "    2      0.138609   0.125848   0.891107  \n",
            "\n"
          ],
          "name": "stdout"
        },
        {
          "output_type": "execute_result",
          "data": {
            "text/plain": [
              "[array([0.12585]), 0.891107455524129]"
            ]
          },
          "metadata": {
            "tags": []
          },
          "execution_count": 22
        }
      ]
    },
    {
      "metadata": {
        "id": "JgDmPYxsvhSY",
        "colab_type": "code",
        "colab": {}
      },
      "cell_type": "code",
      "source": [
        "lr = .1\n",
        "lrs = [lr/9,lr/3,lr]"
      ],
      "execution_count": 0,
      "outputs": []
    },
    {
      "metadata": {
        "id": "nBsP_2-jvtGd",
        "colab_type": "code",
        "colab": {
          "base_uri": "https://localhost:8080/",
          "height": 228
        },
        "outputId": "d64c9028-89da-4ccf-a51d-34f8812f5f7d"
      },
      "cell_type": "code",
      "source": [
        "learn.unfreeze()\n",
        "learn.fit(lrs, 3, cycle_len=1, cycle_mult=2)"
      ],
      "execution_count": 25,
      "outputs": [
        {
          "output_type": "display_data",
          "data": {
            "application/vnd.jupyter.widget-view+json": {
              "model_id": "b78570e97f2f4603840f22d131a869db",
              "version_minor": 0,
              "version_major": 2
            },
            "text/plain": [
              "HBox(children=(IntProgress(value=0, description='Epoch', max=7), HTML(value='')))"
            ]
          },
          "metadata": {
            "tags": []
          }
        },
        {
          "output_type": "stream",
          "text": [
            "epoch      trn_loss   val_loss   f2         \n",
            "    0      0.124011   0.111565   0.90593   \n",
            " 25%|██▌       | 128/506 [00:29<01:26,  4.35it/s, loss=0.125]"
          ],
          "name": "stdout"
        },
        {
          "output_type": "stream",
          "text": [
            "    1      0.11829    0.105475   0.911467  \n",
            " 51%|█████     | 257/506 [00:58<00:56,  4.37it/s, loss=0.115]"
          ],
          "name": "stdout"
        },
        {
          "output_type": "stream",
          "text": [
            "    2      0.1119     0.101671   0.915834  \n",
            " 66%|██████▌   | 332/506 [01:14<00:38,  4.48it/s, loss=0.114]"
          ],
          "name": "stdout"
        },
        {
          "output_type": "stream",
          "text": [
            "    3      0.111542   0.101983   0.914299  \n",
            " 74%|███████▍  | 375/506 [01:21<00:28,  4.57it/s, loss=0.11]"
          ],
          "name": "stdout"
        },
        {
          "output_type": "stream",
          "text": [
            "    4      0.109479   0.098888   0.917212  \n",
            " 79%|███████▉  | 401/506 [01:26<00:22,  4.62it/s, loss=0.105]"
          ],
          "name": "stdout"
        },
        {
          "output_type": "stream",
          "text": [
            "    5      0.10276    0.097772   0.917089  \n",
            " 82%|████████▏ | 415/506 [01:32<00:20,  4.47it/s, loss=0.104]"
          ],
          "name": "stdout"
        },
        {
          "output_type": "stream",
          "text": [
            "    6      0.102696   0.09775    0.917554  \n",
            "\n"
          ],
          "name": "stdout"
        },
        {
          "output_type": "execute_result",
          "data": {
            "text/plain": [
              "[array([0.09775]), 0.917553560825829]"
            ]
          },
          "metadata": {
            "tags": []
          },
          "execution_count": 25
        }
      ]
    },
    {
      "metadata": {
        "id": "IEUvaEcb9kDE",
        "colab_type": "code",
        "colab": {
          "base_uri": "https://localhost:8080/",
          "height": 35
        },
        "outputId": "a41f6bd9-d661-4d72-933b-ecf7720296ce"
      },
      "cell_type": "code",
      "source": [
        "sz"
      ],
      "execution_count": 26,
      "outputs": [
        {
          "output_type": "execute_result",
          "data": {
            "text/plain": [
              "64"
            ]
          },
          "metadata": {
            "tags": []
          },
          "execution_count": 26
        }
      ]
    },
    {
      "metadata": {
        "id": "i5uOXPRaMkgr",
        "colab_type": "code",
        "colab": {}
      },
      "cell_type": "code",
      "source": [
        "learn.save('64_pre')\n",
        "learn.load('64_pre')"
      ],
      "execution_count": 0,
      "outputs": []
    },
    {
      "metadata": {
        "id": "YVnXJOnMH-z_",
        "colab_type": "code",
        "colab": {
          "base_uri": "https://localhost:8080/",
          "height": 228
        },
        "outputId": "93d68f76-c8a4-4df6-c861-cb95c65ae006"
      },
      "cell_type": "code",
      "source": [
        "learn.fit(lrs, 3, cycle_len=1, cycle_mult=2)"
      ],
      "execution_count": 28,
      "outputs": [
        {
          "output_type": "display_data",
          "data": {
            "application/vnd.jupyter.widget-view+json": {
              "model_id": "0dc4ed7506d1430088c6e41fa5ecf4e2",
              "version_minor": 0,
              "version_major": 2
            },
            "text/plain": [
              "HBox(children=(IntProgress(value=0, description='Epoch', max=7), HTML(value='')))"
            ]
          },
          "metadata": {
            "tags": []
          }
        },
        {
          "output_type": "stream",
          "text": [
            "epoch      trn_loss   val_loss   f2         \n",
            "    0      0.10055    0.097068   0.918536  \n",
            " 25%|██▌       | 128/506 [00:29<01:26,  4.38it/s, loss=0.104]"
          ],
          "name": "stdout"
        },
        {
          "output_type": "stream",
          "text": [
            "    1      0.103235   0.097573   0.91836   \n",
            " 51%|█████     | 257/506 [00:58<00:56,  4.40it/s, loss=0.0996]"
          ],
          "name": "stdout"
        },
        {
          "output_type": "stream",
          "text": [
            "    2      0.098429   0.096373   0.918846  \n",
            " 65%|██████▌   | 330/506 [01:13<00:38,  4.51it/s, loss=0.103]"
          ],
          "name": "stdout"
        },
        {
          "output_type": "stream",
          "text": [
            "    3      0.101331   0.098354   0.917771  \n",
            " 74%|███████▍  | 374/506 [01:21<00:28,  4.57it/s, loss=0.0973]"
          ],
          "name": "stdout"
        },
        {
          "output_type": "stream",
          "text": [
            "    4      0.099327   0.097458   0.918452  \n",
            " 78%|███████▊  | 395/506 [01:25<00:24,  4.62it/s, loss=0.0965]"
          ],
          "name": "stdout"
        },
        {
          "output_type": "stream",
          "text": [
            "    5      0.094658   0.095934   0.920021  \n",
            " 80%|████████  | 407/506 [01:29<00:21,  4.55it/s, loss=0.0927]"
          ],
          "name": "stdout"
        },
        {
          "output_type": "stream",
          "text": [
            "    6      0.093594   0.095613   0.920022  \n",
            "\n"
          ],
          "name": "stdout"
        },
        {
          "output_type": "execute_result",
          "data": {
            "text/plain": [
              "[array([0.09561]), 0.9200218333031268]"
            ]
          },
          "metadata": {
            "tags": []
          },
          "execution_count": 28
        }
      ]
    },
    {
      "metadata": {
        "id": "loDQbsW_DjoY",
        "colab_type": "code",
        "colab": {}
      },
      "cell_type": "code",
      "source": [
        "sz = 128"
      ],
      "execution_count": 0,
      "outputs": []
    },
    {
      "metadata": {
        "id": "fGhOxAYTDjtq",
        "colab_type": "code",
        "colab": {
          "base_uri": "https://localhost:8080/",
          "height": 52
        },
        "outputId": "70c7a32d-4209-4826-cb85-222c83684bff"
      },
      "cell_type": "code",
      "source": [
        "data = get_data(sz)\n",
        "data = data.resize(int(sz*1.3),'tmp')\n",
        "learn.set_data(data)"
      ],
      "execution_count": 30,
      "outputs": [
        {
          "output_type": "display_data",
          "data": {
            "application/vnd.jupyter.widget-view+json": {
              "model_id": "7245caa92b3f4b9196374a1309c74386",
              "version_minor": 0,
              "version_major": 2
            },
            "text/plain": [
              "HBox(children=(IntProgress(value=0, max=6), HTML(value='')))"
            ]
          },
          "metadata": {
            "tags": []
          }
        },
        {
          "output_type": "stream",
          "text": [
            "                                                      \n"
          ],
          "name": "stdout"
        }
      ]
    },
    {
      "metadata": {
        "id": "-YEyfO64Dj4v",
        "colab_type": "code",
        "colab": {
          "base_uri": "https://localhost:8080/",
          "height": 228
        },
        "outputId": "cbff38dc-378c-4661-b317-cbf219ec0ae1"
      },
      "cell_type": "code",
      "source": [
        "learn.freeze()\n",
        "learn.fit(.1,3,cycle_len=1,cycle_mult=2)"
      ],
      "execution_count": 31,
      "outputs": [
        {
          "output_type": "display_data",
          "data": {
            "application/vnd.jupyter.widget-view+json": {
              "model_id": "a2ae3217558a4ee0b7fc5a1e834818ad",
              "version_minor": 0,
              "version_major": 2
            },
            "text/plain": [
              "HBox(children=(IntProgress(value=0, description='Epoch', max=7), HTML(value='')))"
            ]
          },
          "metadata": {
            "tags": []
          }
        },
        {
          "output_type": "stream",
          "text": [
            "epoch      trn_loss   val_loss   f2         \n",
            "    0      0.101731   0.094319   0.919891  \n",
            " 25%|██▌       | 128/506 [00:29<01:26,  4.36it/s, loss=0.0995]"
          ],
          "name": "stdout"
        },
        {
          "output_type": "stream",
          "text": [
            "    1      0.098217   0.093249   0.920284  \n",
            " 50%|█████     | 253/506 [00:56<00:56,  4.47it/s, loss=0.0981]"
          ],
          "name": "stdout"
        },
        {
          "output_type": "stream",
          "text": [
            "    2      0.097784   0.092384   0.922249  \n",
            " 64%|██████▍   | 325/506 [01:13<00:40,  4.45it/s, loss=0.1]"
          ],
          "name": "stdout"
        },
        {
          "output_type": "stream",
          "text": [
            "    3      0.097639   0.092518   0.922098  \n",
            " 73%|███████▎  | 367/506 [01:21<00:30,  4.49it/s, loss=0.0984]"
          ],
          "name": "stdout"
        },
        {
          "output_type": "stream",
          "text": [
            "    4      0.09534    0.091937   0.921902  \n",
            " 77%|███████▋  | 390/506 [01:25<00:25,  4.56it/s, loss=0.0976]"
          ],
          "name": "stdout"
        },
        {
          "output_type": "stream",
          "text": [
            "    5      0.098059   0.091634   0.922236  \n",
            " 80%|████████  | 405/506 [01:29<00:22,  4.54it/s, loss=0.0955]"
          ],
          "name": "stdout"
        },
        {
          "output_type": "stream",
          "text": [
            "    6      0.096947   0.091651   0.922173  \n",
            "\n"
          ],
          "name": "stdout"
        },
        {
          "output_type": "execute_result",
          "data": {
            "text/plain": [
              "[array([0.09165]), 0.9221731823315176]"
            ]
          },
          "metadata": {
            "tags": []
          },
          "execution_count": 31
        }
      ]
    },
    {
      "metadata": {
        "id": "FCeVo_THDj2f",
        "colab_type": "code",
        "colab": {
          "base_uri": "https://localhost:8080/",
          "height": 228
        },
        "outputId": "d5de14fd-74c0-4333-fd5f-ffd48de79516"
      },
      "cell_type": "code",
      "source": [
        "learn.unfreeze()\n",
        "learn.fit(lrs,3,cycle_len=1,cycle_mult=2)"
      ],
      "execution_count": 32,
      "outputs": [
        {
          "output_type": "display_data",
          "data": {
            "application/vnd.jupyter.widget-view+json": {
              "model_id": "c3f23c90776e4872b24c9e8b8f9d2642",
              "version_minor": 0,
              "version_major": 2
            },
            "text/plain": [
              "HBox(children=(IntProgress(value=0, description='Epoch', max=7), HTML(value='')))"
            ]
          },
          "metadata": {
            "tags": []
          }
        },
        {
          "output_type": "stream",
          "text": [
            "epoch      trn_loss   val_loss   f2         \n",
            "    0      0.095098   0.087957   0.925584  \n",
            " 25%|██▍       | 124/506 [01:11<03:41,  1.72it/s, loss=0.0946]"
          ],
          "name": "stdout"
        },
        {
          "output_type": "stream",
          "text": [
            "    1      0.093113   0.087457   0.925804  \n",
            " 49%|████▉     | 249/506 [02:22<02:26,  1.75it/s, loss=0.0917]"
          ],
          "name": "stdout"
        },
        {
          "output_type": "stream",
          "text": [
            "    2      0.093463   0.086394   0.927909  \n",
            " 64%|██████▎   | 322/506 [03:03<01:44,  1.76it/s, loss=0.0926]"
          ],
          "name": "stdout"
        },
        {
          "output_type": "stream",
          "text": [
            "    3      0.093731   0.089296   0.925877  \n",
            " 72%|███████▏  | 364/506 [03:28<01:21,  1.75it/s, loss=0.0867]"
          ],
          "name": "stdout"
        },
        {
          "output_type": "stream",
          "text": [
            "    4      0.090495   0.08656    0.928216  \n",
            " 77%|███████▋  | 389/506 [03:41<01:06,  1.75it/s, loss=0.0855]"
          ],
          "name": "stdout"
        },
        {
          "output_type": "stream",
          "text": [
            "    5      0.087024   0.085374   0.928892  \n",
            " 80%|███████▉  | 404/506 [03:50<00:58,  1.75it/s, loss=0.0839]"
          ],
          "name": "stdout"
        },
        {
          "output_type": "stream",
          "text": [
            "    6      0.08414    0.084812   0.929827  \n",
            "\n"
          ],
          "name": "stdout"
        },
        {
          "output_type": "execute_result",
          "data": {
            "text/plain": [
              "[array([0.08481]), 0.9298271679679321]"
            ]
          },
          "metadata": {
            "tags": []
          },
          "execution_count": 32
        }
      ]
    },
    {
      "metadata": {
        "id": "iIgKCx6ZDj0F",
        "colab_type": "code",
        "colab": {
          "base_uri": "https://localhost:8080/",
          "height": 52
        },
        "outputId": "7d4dd006-3471-4f25-9442-7fc47fadde44"
      },
      "cell_type": "code",
      "source": [
        "sz=256\n",
        "data = get_data(sz)\n",
        "data = data.resize(int(sz*1.3),'tmp')\n"
      ],
      "execution_count": 33,
      "outputs": [
        {
          "output_type": "display_data",
          "data": {
            "application/vnd.jupyter.widget-view+json": {
              "model_id": "6ddb7f899f7f449caf7142e7a2bce5b4",
              "version_minor": 0,
              "version_major": 2
            },
            "text/plain": [
              "HBox(children=(IntProgress(value=0, max=6), HTML(value='')))"
            ]
          },
          "metadata": {
            "tags": []
          }
        },
        {
          "output_type": "stream",
          "text": [
            "                                                      \n"
          ],
          "name": "stdout"
        }
      ]
    },
    {
      "metadata": {
        "id": "d21_H60PHIqd",
        "colab_type": "code",
        "colab": {
          "base_uri": "https://localhost:8080/",
          "height": 228
        },
        "outputId": "acc9d9f8-bdf4-4a7d-b046-cba75b722345"
      },
      "cell_type": "code",
      "source": [
        "learn.set_data(data)\n",
        "learn.freeze()\n",
        "learn.fit(.1,3,cycle_len=1,cycle_mult=2)"
      ],
      "execution_count": 35,
      "outputs": [
        {
          "output_type": "display_data",
          "data": {
            "application/vnd.jupyter.widget-view+json": {
              "model_id": "0bb854a3ae1e4dfe9cad87c9cb8ebd79",
              "version_minor": 0,
              "version_major": 2
            },
            "text/plain": [
              "HBox(children=(IntProgress(value=0, description='Epoch', max=7), HTML(value='')))"
            ]
          },
          "metadata": {
            "tags": []
          }
        },
        {
          "output_type": "stream",
          "text": [
            "epoch      trn_loss   val_loss   f2         \n",
            "    0      0.09059    0.088776   0.926077  \n",
            " 25%|██▍       | 124/506 [01:27<04:30,  1.41it/s, loss=0.0929]"
          ],
          "name": "stdout"
        },
        {
          "output_type": "stream",
          "text": [
            "    1      0.091734   0.087339   0.927904  \n",
            " 49%|████▉     | 249/506 [02:50<02:55,  1.46it/s, loss=0.0931]"
          ],
          "name": "stdout"
        },
        {
          "output_type": "stream",
          "text": [
            "    2      0.092337   0.087211   0.927083  \n",
            " 64%|██████▎   | 322/506 [03:38<02:04,  1.47it/s, loss=0.0912]"
          ],
          "name": "stdout"
        },
        {
          "output_type": "stream",
          "text": [
            "    3      0.094421   0.086778   0.927504  \n",
            " 72%|███████▏  | 364/506 [04:07<01:36,  1.47it/s, loss=0.0891]"
          ],
          "name": "stdout"
        },
        {
          "output_type": "stream",
          "text": [
            "    4      0.090794   0.086527   0.927865  \n",
            " 77%|███████▋  | 389/506 [04:22<01:18,  1.48it/s, loss=0.0907]"
          ],
          "name": "stdout"
        },
        {
          "output_type": "stream",
          "text": [
            "    5      0.091209   0.086269   0.928356  \n",
            " 80%|███████▉  | 404/506 [04:33<01:09,  1.48it/s, loss=0.0901]"
          ],
          "name": "stdout"
        },
        {
          "output_type": "stream",
          "text": [
            "    6      0.089563   0.086125   0.928753  \n",
            "\n"
          ],
          "name": "stdout"
        },
        {
          "output_type": "execute_result",
          "data": {
            "text/plain": [
              "[array([0.08612]), 0.9287527476793832]"
            ]
          },
          "metadata": {
            "tags": []
          },
          "execution_count": 35
        }
      ]
    },
    {
      "metadata": {
        "id": "jyiNDVCnDjxL",
        "colab_type": "code",
        "colab": {
          "base_uri": "https://localhost:8080/",
          "height": 228
        },
        "outputId": "aac9766c-2e65-4db1-835f-5b3dd92c5856"
      },
      "cell_type": "code",
      "source": [
        "learn.set_data(data)\n",
        "learn.unfreeze()\n",
        "learn.fit(lrs,3,cycle_len=1,cycle_mult=2)"
      ],
      "execution_count": 37,
      "outputs": [
        {
          "output_type": "display_data",
          "data": {
            "application/vnd.jupyter.widget-view+json": {
              "model_id": "a7e27fab990f496db3faffacbe53d3b0",
              "version_minor": 0,
              "version_major": 2
            },
            "text/plain": [
              "HBox(children=(IntProgress(value=0, description='Epoch', max=7), HTML(value='')))"
            ]
          },
          "metadata": {
            "tags": []
          }
        },
        {
          "output_type": "stream",
          "text": [
            "epoch      trn_loss   val_loss   f2         \n",
            "    0      0.091353   0.083262   0.931047  \n",
            " 25%|██▍       | 124/506 [03:50<11:50,  1.86s/it, loss=0.0898]"
          ],
          "name": "stdout"
        },
        {
          "output_type": "stream",
          "text": [
            "    1      0.088503   0.08356    0.930647  \n",
            " 49%|████▉     | 249/506 [07:41<07:55,  1.85s/it, loss=0.0864]"
          ],
          "name": "stdout"
        },
        {
          "output_type": "stream",
          "text": [
            "    2      0.082721   0.082633   0.931975  \n",
            " 64%|██████▎   | 322/506 [09:56<05:40,  1.85s/it, loss=0.0858]"
          ],
          "name": "stdout"
        },
        {
          "output_type": "stream",
          "text": [
            "    3      0.087268   0.084102   0.929705  \n",
            " 72%|███████▏  | 364/506 [11:14<04:23,  1.85s/it, loss=0.0864]"
          ],
          "name": "stdout"
        },
        {
          "output_type": "stream",
          "text": [
            "    4      0.084344   0.083048   0.929647  \n",
            " 77%|███████▋  | 389/506 [11:58<03:36,  1.85s/it, loss=0.0818]"
          ],
          "name": "stdout"
        },
        {
          "output_type": "stream",
          "text": [
            "    5      0.081493   0.081686   0.932642  \n",
            " 80%|███████▉  | 404/506 [12:26<03:08,  1.85s/it, loss=0.0794]"
          ],
          "name": "stdout"
        },
        {
          "output_type": "stream",
          "text": [
            "    6      0.079387   0.081632   0.932098  \n",
            "\n"
          ],
          "name": "stdout"
        },
        {
          "output_type": "execute_result",
          "data": {
            "text/plain": [
              "[array([0.08163]), 0.932097625357117]"
            ]
          },
          "metadata": {
            "tags": []
          },
          "execution_count": 37
        }
      ]
    },
    {
      "metadata": {
        "id": "XCk43cidLxP1",
        "colab_type": "code",
        "colab": {
          "base_uri": "https://localhost:8080/",
          "height": 17
        },
        "outputId": "e995dc7a-8901-486f-d10e-7968485ccc52"
      },
      "cell_type": "code",
      "source": [
        "log_preds,y = learn.TTA()"
      ],
      "execution_count": 40,
      "outputs": [
        {
          "output_type": "stream",
          "text": [
            ""
          ],
          "name": "stdout"
        }
      ]
    },
    {
      "metadata": {
        "id": "vMI1KpOdAg01",
        "colab_type": "code",
        "colab": {
          "base_uri": "https://localhost:8080/",
          "height": 35
        },
        "outputId": "e756fbbb-009e-4bef-d8e3-ad083a65f006"
      },
      "cell_type": "code",
      "source": [
        "preds=np.mean(np.exp(log_preds),0)\n",
        "f2(preds,y)"
      ],
      "execution_count": 41,
      "outputs": [
        {
          "output_type": "execute_result",
          "data": {
            "text/plain": [
              "0.4826461087123383"
            ]
          },
          "metadata": {
            "tags": []
          },
          "execution_count": 41
        }
      ]
    },
    {
      "metadata": {
        "id": "NYasNAHOCaaj",
        "colab_type": "code",
        "colab": {}
      },
      "cell_type": "code",
      "source": [
        "log_preds = learn.predict()"
      ],
      "execution_count": 0,
      "outputs": []
    },
    {
      "metadata": {
        "id": "zkJxhuRICelG",
        "colab_type": "code",
        "colab": {
          "base_uri": "https://localhost:8080/",
          "height": 35
        },
        "outputId": "4309220f-2af5-4500-b97f-54c2fdb92138"
      },
      "cell_type": "code",
      "source": [
        "preds=np.exp(log_preds)\n",
        "f2(preds,y)"
      ],
      "execution_count": 45,
      "outputs": [
        {
          "output_type": "execute_result",
          "data": {
            "text/plain": [
              "0.4826461087123383"
            ]
          },
          "metadata": {
            "tags": []
          },
          "execution_count": 45
        }
      ]
    },
    {
      "metadata": {
        "id": "jNy4PzTfHpGi",
        "colab_type": "code",
        "colab": {}
      },
      "cell_type": "code",
      "source": [
        "learn.save('planet')\n",
        "learn.load('planet')"
      ],
      "execution_count": 0,
      "outputs": []
    },
    {
      "metadata": {
        "id": "hXBFf6v1Bo64",
        "colab_type": "code",
        "colab": {}
      },
      "cell_type": "code",
      "source": [
        ""
      ],
      "execution_count": 0,
      "outputs": []
    }
  ]
}